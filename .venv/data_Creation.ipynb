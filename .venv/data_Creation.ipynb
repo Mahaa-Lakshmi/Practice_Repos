{
 "cells": [
  {
   "cell_type": "markdown",
   "metadata": {},
   "source": [
    "Faker Data creation"
   ]
  },
  {
   "cell_type": "code",
   "execution_count": 2,
   "metadata": {},
   "outputs": [
    {
     "name": "stdout",
     "output_type": "stream",
     "text": [
      "Collecting Faker\n",
      "  Downloading Faker-33.3.0-py3-none-any.whl (1.9 MB)\n",
      "     ---------------------------------------- 1.9/1.9 MB 4.8 MB/s eta 0:00:00\n",
      "Requirement already satisfied: python-dateutil>=2.4 in e:\\ai engineer\\guvi\\capstone projects\\zomato_practice\\zomata_food_practice_backup\\.venv\\lib\\site-packages (from Faker) (2.9.0.post0)\n",
      "Requirement already satisfied: typing-extensions in e:\\ai engineer\\guvi\\capstone projects\\zomato_practice\\zomata_food_practice_backup\\.venv\\lib\\site-packages (from Faker) (4.12.2)\n",
      "Requirement already satisfied: six>=1.5 in e:\\ai engineer\\guvi\\capstone projects\\zomato_practice\\zomata_food_practice_backup\\.venv\\lib\\site-packages (from python-dateutil>=2.4->Faker) (1.17.0)\n",
      "Installing collected packages: Faker\n",
      "Successfully installed Faker-33.3.0\n"
     ]
    },
    {
     "name": "stderr",
     "output_type": "stream",
     "text": [
      "\n",
      "[notice] A new release of pip available: 22.3.1 -> 24.3.1\n",
      "[notice] To update, run: python.exe -m pip install --upgrade pip\n"
     ]
    }
   ],
   "source": [
    "!pip install Faker"
   ]
  },
  {
   "cell_type": "code",
   "execution_count": 10,
   "metadata": {},
   "outputs": [
    {
     "name": "stdout",
     "output_type": "stream",
     "text": [
      "Collecting pandas\n",
      "  Downloading pandas-2.2.3-cp311-cp311-win_amd64.whl (11.6 MB)\n",
      "     ---------------------------------------- 11.6/11.6 MB 3.0 MB/s eta 0:00:00\n",
      "Collecting numpy>=1.23.2\n",
      "  Downloading numpy-2.2.1-cp311-cp311-win_amd64.whl (12.9 MB)\n",
      "     ---------------------------------------- 12.9/12.9 MB 2.9 MB/s eta 0:00:00\n",
      "Requirement already satisfied: python-dateutil>=2.8.2 in e:\\ai engineer\\guvi\\capstone projects\\zomato_practice\\zomata_food_practice_backup\\.venv\\lib\\site-packages (from pandas) (2.9.0.post0)\n",
      "Collecting pytz>=2020.1\n",
      "  Downloading pytz-2024.2-py2.py3-none-any.whl (508 kB)\n",
      "     -------------------------------------- 508.0/508.0 kB 2.3 MB/s eta 0:00:00\n",
      "Collecting tzdata>=2022.7\n",
      "  Downloading tzdata-2024.2-py2.py3-none-any.whl (346 kB)\n",
      "     -------------------------------------- 346.6/346.6 kB 3.6 MB/s eta 0:00:00\n",
      "Requirement already satisfied: six>=1.5 in e:\\ai engineer\\guvi\\capstone projects\\zomato_practice\\zomata_food_practice_backup\\.venv\\lib\\site-packages (from python-dateutil>=2.8.2->pandas) (1.17.0)\n",
      "Installing collected packages: pytz, tzdata, numpy, pandas\n",
      "Successfully installed numpy-2.2.1 pandas-2.2.3 pytz-2024.2 tzdata-2024.2\n"
     ]
    },
    {
     "name": "stderr",
     "output_type": "stream",
     "text": [
      "\n",
      "[notice] A new release of pip available: 22.3.1 -> 24.3.1\n",
      "[notice] To update, run: python.exe -m pip install --upgrade pip\n"
     ]
    }
   ],
   "source": [
    "!pip install pandas"
   ]
  },
  {
   "cell_type": "code",
   "execution_count": 14,
   "metadata": {},
   "outputs": [],
   "source": [
    "from faker import Faker\n",
    "fake = Faker()"
   ]
  },
  {
   "cell_type": "markdown",
   "metadata": {},
   "source": [
    "Customer Table\n",
    "\n",
    "customer_id (Primary Key): Unique identifier for each customer.\n",
    "name: Customer’s full name.\n",
    "email: Contact email address.\n",
    "phone: Contact phone number.\n",
    "location: Address or location of the customer.\n",
    "signup_date: Date the customer signed up.\n",
    "is_premium: Boolean indicating if the customer has a premium membership.\n",
    "preferred_cuisine: Customer's preferred cuisine type.\n",
    "total_orders: Total number of orders placed by the customer.\n",
    "average_rating: Average rating given by the customer to restaurants."
   ]
  },
  {
   "cell_type": "code",
   "execution_count": 15,
   "metadata": {},
   "outputs": [],
   "source": [
    "import random\n",
    "import pandas as pd\n",
    "import string"
   ]
  },
  {
   "cell_type": "code",
   "execution_count": 22,
   "metadata": {},
   "outputs": [],
   "source": [
    "customer_id,name, email, phone, location, signup_date, is_premium, preferred_cuisine,total_orders,average_rating = [[] for k in range(0,10)]"
   ]
  },
  {
   "cell_type": "code",
   "execution_count": 23,
   "metadata": {},
   "outputs": [],
   "source": [
    "# Generate correlated data for 10 rows\n",
    "for row in range(0, 10):\n",
    "    # Generate a name\n",
    "    full_name = fake.name()\n",
    "        \n",
    "    # Generate an email based on the name\n",
    "    email_domain = fake.free_email_domain()  # e.g., gmail.com, yahoo.com\n",
    "    email_address = f\"{full_name.split()[0].lower()}.{full_name.split()[1].lower()}@{email_domain}\"\n",
    "    \n",
    "    # Append correlated fields\n",
    "    customer_id.append(fake.unique.random_int(min=111111, max=999999))\n",
    "    name.append(full_name)\n",
    "    email.append(email_address)\n",
    "    location.append(fake.address())\n",
    "    \n",
    "    # Generate a phone number based on the location (country code)\n",
    "    country_code = random.choice(['+1', '+44', '+91', '+61', '+81', '+49', '+33', '+55', '+86', '+7'])\n",
    "    phone.append(country_code + fake.numerify('##########'))\n",
    "    \n",
    "    # Append other fields\n",
    "    signup_date.append(fake.date_between(start_date='-2y', end_date='today'))\n",
    "    is_premium.append(fake.random_int(min=0, max=1))\n",
    "    preferred_cuisine.append(fake.random_element(elements=(\"Mexican\", \"Indian\", \"Italian\", \"American\", \"Japanese\", \"Thai\", \"French\")))\n",
    "    total_orders.append(fake.random_int(min=0, max=12))\n",
    "    average_rating.append(fake.random_int(min=1, max=5))\n"
   ]
  },
  {
   "cell_type": "code",
   "execution_count": null,
   "metadata": {},
   "outputs": [],
   "source": [
    "\"\"\"\n",
    "for row in range(0,10):\n",
    "    customer_id.append(fake.unique.random_int(min=111111, max=999999))\n",
    "    name.append(fake.name())\n",
    "    email.append(fake.email())\n",
    "    phone.append(random.choice(['+1', '+44', '+91', '+61', '+81', '+49', '+33', '+55', '+86', '+7'])+fake.numerify('##########'))\n",
    "    location.append(fake.address())\n",
    "    signup_date.append(fake.date_between(start_date='-2y', end_date='today'))\n",
    "    is_premium.append(fake.random_int(min=0,max=1))\n",
    "    preferred_cuisine.append(fake.random_element(elements=(\"Mexican\",\"Indian\",\"Italian\",\"American\",\"Japanese\",\"Thai\",\"French\")))\n",
    "    total_orders.append(fake.random_int(min=0,max=12))\n",
    "    average_rating.append(fake.random_int(min=1,max=5))\n",
    "         \n",
    "\"\"\""
   ]
  },
  {
   "cell_type": "code",
   "execution_count": 25,
   "metadata": {},
   "outputs": [
    {
     "data": {
      "text/html": [
       "<div>\n",
       "<style scoped>\n",
       "    .dataframe tbody tr th:only-of-type {\n",
       "        vertical-align: middle;\n",
       "    }\n",
       "\n",
       "    .dataframe tbody tr th {\n",
       "        vertical-align: top;\n",
       "    }\n",
       "\n",
       "    .dataframe thead th {\n",
       "        text-align: right;\n",
       "    }\n",
       "</style>\n",
       "<table border=\"1\" class=\"dataframe\">\n",
       "  <thead>\n",
       "    <tr style=\"text-align: right;\">\n",
       "      <th></th>\n",
       "      <th>customer_id</th>\n",
       "      <th>Name</th>\n",
       "      <th>email</th>\n",
       "      <th>phone</th>\n",
       "      <th>location</th>\n",
       "      <th>signup_date</th>\n",
       "      <th>is_premium</th>\n",
       "      <th>preferred_cuisine</th>\n",
       "      <th>total_orders</th>\n",
       "      <th>average_rating</th>\n",
       "    </tr>\n",
       "  </thead>\n",
       "  <tbody>\n",
       "    <tr>\n",
       "      <th>0</th>\n",
       "      <td>159534</td>\n",
       "      <td>Cassidy Peters</td>\n",
       "      <td>cassidy.peters@gmail.com</td>\n",
       "      <td>+74916675303</td>\n",
       "      <td>42125 Dawson Knoll Suite 721\\nChristinamouth, ...</td>\n",
       "      <td>2023-06-03</td>\n",
       "      <td>1</td>\n",
       "      <td>Indian</td>\n",
       "      <td>12</td>\n",
       "      <td>2</td>\n",
       "    </tr>\n",
       "    <tr>\n",
       "      <th>1</th>\n",
       "      <td>172775</td>\n",
       "      <td>Juan Burke</td>\n",
       "      <td>juan.burke@hotmail.com</td>\n",
       "      <td>+493030567234</td>\n",
       "      <td>PSC 0747, Box 0911\\nAPO AA 16642</td>\n",
       "      <td>2024-05-12</td>\n",
       "      <td>1</td>\n",
       "      <td>Italian</td>\n",
       "      <td>1</td>\n",
       "      <td>2</td>\n",
       "    </tr>\n",
       "    <tr>\n",
       "      <th>2</th>\n",
       "      <td>681099</td>\n",
       "      <td>Rachael Wilson DDS</td>\n",
       "      <td>rachael.wilson@yahoo.com</td>\n",
       "      <td>+338791270305</td>\n",
       "      <td>1336 Erika Streets\\nEast Teresa, FL 60266</td>\n",
       "      <td>2024-02-12</td>\n",
       "      <td>1</td>\n",
       "      <td>Italian</td>\n",
       "      <td>4</td>\n",
       "      <td>2</td>\n",
       "    </tr>\n",
       "    <tr>\n",
       "      <th>3</th>\n",
       "      <td>271905</td>\n",
       "      <td>James Davis Jr.</td>\n",
       "      <td>james.davis@hotmail.com</td>\n",
       "      <td>+74443074157</td>\n",
       "      <td>8299 Mason Forges\\nMillsport, SD 94117</td>\n",
       "      <td>2024-12-12</td>\n",
       "      <td>0</td>\n",
       "      <td>Italian</td>\n",
       "      <td>4</td>\n",
       "      <td>4</td>\n",
       "    </tr>\n",
       "    <tr>\n",
       "      <th>4</th>\n",
       "      <td>592320</td>\n",
       "      <td>Lauren Malone</td>\n",
       "      <td>lauren.malone@gmail.com</td>\n",
       "      <td>+441542153557</td>\n",
       "      <td>9406 Davis Creek\\nWest Antonio, MH 87728</td>\n",
       "      <td>2024-10-14</td>\n",
       "      <td>1</td>\n",
       "      <td>French</td>\n",
       "      <td>1</td>\n",
       "      <td>1</td>\n",
       "    </tr>\n",
       "  </tbody>\n",
       "</table>\n",
       "</div>"
      ],
      "text/plain": [
       "   customer_id                Name                     email          phone  \\\n",
       "0       159534      Cassidy Peters  cassidy.peters@gmail.com   +74916675303   \n",
       "1       172775          Juan Burke    juan.burke@hotmail.com  +493030567234   \n",
       "2       681099  Rachael Wilson DDS  rachael.wilson@yahoo.com  +338791270305   \n",
       "3       271905     James Davis Jr.   james.davis@hotmail.com   +74443074157   \n",
       "4       592320       Lauren Malone   lauren.malone@gmail.com  +441542153557   \n",
       "\n",
       "                                            location signup_date  is_premium  \\\n",
       "0  42125 Dawson Knoll Suite 721\\nChristinamouth, ...  2023-06-03           1   \n",
       "1                   PSC 0747, Box 0911\\nAPO AA 16642  2024-05-12           1   \n",
       "2          1336 Erika Streets\\nEast Teresa, FL 60266  2024-02-12           1   \n",
       "3             8299 Mason Forges\\nMillsport, SD 94117  2024-12-12           0   \n",
       "4           9406 Davis Creek\\nWest Antonio, MH 87728  2024-10-14           1   \n",
       "\n",
       "  preferred_cuisine  total_orders  average_rating  \n",
       "0            Indian            12               2  \n",
       "1           Italian             1               2  \n",
       "2           Italian             4               2  \n",
       "3           Italian             4               4  \n",
       "4            French             1               1  "
      ]
     },
     "execution_count": 25,
     "metadata": {},
     "output_type": "execute_result"
    }
   ],
   "source": [
    "cust_info = {\"customer_id\":customer_id, \"Name\":name, \"email\":email,\n",
    "     \"phone\":phone, \"location\":location,\"signup_date\":signup_date,\n",
    "     \"is_premium\":is_premium,\"preferred_cuisine\":preferred_cuisine,\"total_orders\":total_orders,\"average_rating\":average_rating}\n",
    "df = pd.DataFrame(cust_info)\n",
    "df.head()"
   ]
  },
  {
   "cell_type": "markdown",
   "metadata": {},
   "source": [
    "Restaurant Details table\n",
    "\n",
    "restaurant_id (Primary Key): Unique identifier for each restaurant.\n",
    "name: Restaurant name.\n",
    "cuisine_type: Primary cuisine type served (e.g., Indian, Chinese).\n",
    "location: Location of the restaurant.\n",
    "owner_name: Name of the restaurant owner.\n",
    "average_delivery_time: Average delivery time for this restaurant (in minutes).\n",
    "contact_number: Restaurant’s contact number.\n",
    "rating: Average customer rating of the restaurant (1-5 scale).\n",
    "total_orders: Total number of orders received by the restaurant.\n",
    "is_active: Boolean indicating if the restaurant is currently active on the platform."
   ]
  },
  {
   "cell_type": "code",
   "execution_count": null,
   "metadata": {},
   "outputs": [],
   "source": []
  },
  {
   "cell_type": "code",
   "execution_count": null,
   "metadata": {},
   "outputs": [],
   "source": []
  }
 ],
 "metadata": {
  "kernelspec": {
   "display_name": ".venv",
   "language": "python",
   "name": "python3"
  },
  "language_info": {
   "codemirror_mode": {
    "name": "ipython",
    "version": 3
   },
   "file_extension": ".py",
   "mimetype": "text/x-python",
   "name": "python",
   "nbconvert_exporter": "python",
   "pygments_lexer": "ipython3",
   "version": "3.11.1"
  }
 },
 "nbformat": 4,
 "nbformat_minor": 2
}
